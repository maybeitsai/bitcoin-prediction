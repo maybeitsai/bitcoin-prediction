{
 "cells": [
  {
   "cell_type": "markdown",
   "id": "3542feb5",
   "metadata": {},
   "source": [
    "# Bitcoin Price Prediction using Deep Learning\n",
    "\n",
    "- Author: Harry Mardika\n",
    "- Date: 2025-05-02\n",
    "\n",
    "## Introduction\n",
    "\n",
    "### Project Objective\n",
    "The primary goal of this project is to predict the future price of Bitcoin (BTC) using historical daily data. Accurate Bitcoin price prediction is crucial for investors, traders, and financial institutions to make informed decisions, manage risk, and potentially optimize trading strategies.\n",
    "\n",
    "### Importance of Bitcoin Forecasting\n",
    "Bitcoin is known for its high volatility and complex price dynamics, influenced by a myriad of factors including market sentiment, regulatory news, macroeconomic trends, and technological developments. Forecasting its price is challenging but offers significant potential rewards. Advanced time series models can help capture the inherent patterns and dependencies in the price movements.\n",
    "\n",
    "### Models Used\n",
    "We will implement and compare two deep learning models known for their effectiveness in sequence modeling:\n",
    "1.  **LSTM (Long Short-Term Memory):** A type of Recurrent Neural Network (RNN) capable of learning long-range dependencies, making it suitable for time series data.\n",
    "2.  **CNN-LSTM Hybrid:** This model combines Convolutional Neural Networks (CNNs) to extract spatial hierarchies or local patterns within time steps (treating sequences like 1D images) and LSTMs to model the temporal dependencies between these extracted features.\n",
    "\n",
    "### Dataset\n",
    "The dataset comprises daily Bitcoin data from January 1st, 2016, to May 2nd, 2025 (as requested, although data beyond the current date would be synthetic or from a specific source not generally available - using a placeholder endpoint like a recent date, e.g., early 2024, is more realistic. For this example, we will assume the data up to a recent date is available and proceed). It includes columns: \"Tanggal\" (Date), \"Terakhir\" (Close), \"Pembukaan\" (Open), \"Tertinggi\" (High), \"Terendah\" (Low), \"Vol.\" (Volume), and \"Perubahan%\" (Change %).\n",
    "\n",
    "Let's begin by preparing the data."
   ]
  },
  {
   "cell_type": "markdown",
   "id": "65e3b479",
   "metadata": {},
   "source": [
    "## 1. Data Preparation"
   ]
  },
  {
   "cell_type": "markdown",
   "id": "e92bb90c",
   "metadata": {},
   "source": [
    "### Import Libraries\n",
    "Import necessary libraries for data manipulation, visualization, preprocessing, and modeling."
   ]
  },
  {
   "cell_type": "code",
   "execution_count": null,
   "id": "5c172cd8",
   "metadata": {},
   "outputs": [],
   "source": [
    "import pandas as pd\n",
    "import numpy as np\n",
    "import matplotlib.pyplot as plt\n",
    "import seaborn as sns\n",
    "from sklearn.preprocessing import MinMaxScaler\n",
    "from sklearn.model_selection import train_test_split\n",
    "from sklearn.metrics import mean_absolute_error, mean_squared_error, mean_absolute_percentage_error\n",
    "import tensorflow as tf\n",
    "from tensorflow.keras.models import Sequential\n",
    "from tensorflow.keras.layers import LSTM, Dense, Dropout, Conv1D, MaxPooling1D, Flatten, Input, TimeDistributed\n",
    "from tensorflow.keras.callbacks import EarlyStopping, ModelCheckpoint\n",
    "import warnings\n",
    "\n",
    "warnings.filterwarnings('ignore')\n",
    "plt.style.use('seaborn-v0_8-darkgrid') # Use a visually appealing style"
   ]
  },
  {
   "cell_type": "markdown",
   "id": "f8d9182d",
   "metadata": {},
   "source": [
    "### Load Data\n",
    "Load the dataset from a CSV file. Parse the date column and rename columns to English for clarity.\n"
   ]
  },
  {
   "cell_type": "code",
   "execution_count": null,
   "id": "66b52f45",
   "metadata": {},
   "outputs": [],
   "source": [
    "# Assuming the data is in a file named 'btc_data.csv' in the same directory\n",
    "try:\n",
    "    # Load the dataset\n",
    "    df = pd.read_csv('btc_data.csv')\n",
    "    print(\"Dataset loaded successfully.\")\n",
    "    print(\"Original columns:\", df.columns.tolist())\n",
    "except FileNotFoundError:\n",
    "    print(\"Error: btc_data.csv not found. Please ensure the file is in the correct directory.\")\n",
    "    # Create a dummy dataframe for demonstration if file not found\n",
    "    dates = pd.date_range(start='2016-01-01', end='2024-05-02', freq='D') # Using a realistic end date\n",
    "    data = {\n",
    "        \"Tanggal\": dates,\n",
    "        \"Terakhir\": np.random.rand(len(dates)) * 40000 + 10000, # Example price data\n",
    "        \"Pembukaan\": np.random.rand(len(dates)) * 40000 + 10000,\n",
    "        \"Tertinggi\": np.random.rand(len(dates)) * 40000 + 11000,\n",
    "        \"Terendah\": np.random.rand(len(dates)) * 40000 + 9000,\n",
    "        \"Vol.\": [f\"{np.random.randint(10, 500)}.{np.random.randint(0,9)}K\" for _ in range(len(dates))], # Example volume\n",
    "        \"Perubahan%\": [f\"{np.random.rand()*10-5:.2f}%\" for _ in range(len(dates))] # Example change\n",
    "    }\n",
    "    df = pd.DataFrame(data)\n",
    "    print(\"Created dummy data for demonstration.\")"
   ]
  },
  {
   "cell_type": "code",
   "execution_count": null,
   "id": "f876348a",
   "metadata": {},
   "outputs": [],
   "source": [
    "# Rename columns to English\n",
    "column_mapping = {\n",
    "    \"Tanggal\": \"Date\",\n",
    "    \"Terakhir\": \"Close\",\n",
    "    \"Pembukaan\": \"Open\",\n",
    "    \"Tertinggi\": \"High\",\n",
    "    \"Terendah\": \"Low\",\n",
    "    \"Vol.\": \"Volume\",\n",
    "    \"Perubahan%\": \"Change_Percent\"\n",
    "}\n",
    "df.rename(columns=column_mapping, inplace=True)"
   ]
  },
  {
   "cell_type": "markdown",
   "id": "56071631",
   "metadata": {},
   "source": [
    "### Data Cleaning and Type Conversion\n",
    "Convert columns to their appropriate data types. Handle specific formats for 'Volume' and 'Change_Percent'."
   ]
  },
  {
   "cell_type": "code",
   "execution_count": null,
   "id": "f312bc8f",
   "metadata": {},
   "outputs": [],
   "source": [
    "# Convert 'Date' to datetime objects\n",
    "df['Date'] = pd.to_datetime(df['Date'])"
   ]
  },
  {
   "cell_type": "code",
   "execution_count": null,
   "id": "659c6dad",
   "metadata": {},
   "outputs": [],
   "source": [
    "# Function to convert volume strings (e.g., '123.4K', '5.6M') to numeric\n",
    "def convert_volume_to_numeric(volume_str):\n",
    "    if isinstance(volume_str, (int, float)):\n",
    "        return volume_str\n",
    "    volume_str = str(volume_str).strip().upper()\n",
    "    if volume_str == '-' or volume_str == '':\n",
    "        return np.nan\n",
    "    multiplier = 1\n",
    "    if 'K' in volume_str:\n",
    "        multiplier = 1_000\n",
    "        volume_str = volume_str.replace('K', '')\n",
    "    elif 'M' in volume_str:\n",
    "        multiplier = 1_000_000\n",
    "        volume_str = volume_str.replace('M', '')\n",
    "    try:\n",
    "        # Handle potential comma as decimal separator if needed, assuming '.' is decimal here\n",
    "        volume_str = volume_str.replace(',', '')\n",
    "        return float(volume_str) * multiplier\n",
    "    except ValueError:\n",
    "        return np.nan"
   ]
  },
  {
   "cell_type": "code",
   "execution_count": null,
   "id": "7cfc3e77",
   "metadata": {},
   "outputs": [],
   "source": [
    "# Convert 'Volume' to numeric\n",
    "df['Volume'] = df['Volume'].apply(convert_volume_to_numeric)\n",
    "\n",
    "# Convert 'Change_Percent' to numeric (float)\n",
    "df['Change_Percent'] = df['Change_Percent'].astype(str).str.replace('%', '').astype(float) / 100.0\n",
    "\n",
    "# Convert price columns to numeric, coercing errors to NaN\n",
    "price_cols = ['Close', 'Open', 'High', 'Low']\n",
    "for col in price_cols:\n",
    "     # Handle potential thousands separators (like '.') if dataset uses it\n",
    "    if df[col].dtype == 'object':\n",
    "         df[col] = df[col].str.replace('.', '', regex=False).str.replace(',', '.', regex=False)\n",
    "    df[col] = pd.to_numeric(df[col], errors='coerce')"
   ]
  },
  {
   "cell_type": "markdown",
   "id": "39b31c37",
   "metadata": {},
   "source": [
    "### Handle Missing Values\n",
    "Check for missing values and apply an appropriate strategy (e.g., forward fill)."
   ]
  },
  {
   "cell_type": "code",
   "execution_count": null,
   "id": "79dc37a2",
   "metadata": {},
   "outputs": [],
   "source": [
    "print(\"\\nMissing values before handling:\")\n",
    "print(df.isnull().sum())"
   ]
  },
  {
   "cell_type": "code",
   "execution_count": null,
   "id": "e028fdbf",
   "metadata": {},
   "outputs": [],
   "source": [
    "# Handle NaNs - Forward fill is suitable for time series price data\n",
    "df.fillna(method='ffill', inplace=True)\n",
    "# If any NaNs remain at the beginning, backfill them\n",
    "df.fillna(method='bfill', inplace=True)\n",
    "\n",
    "print(\"\\nMissing values after handling:\")\n",
    "print(df.isnull().sum())"
   ]
  },
  {
   "cell_type": "markdown",
   "id": "9d9622ea",
   "metadata": {},
   "source": [
    "### Sort Data and Set Index\n",
    "Ensure the data is sorted chronologically by date and set the 'Date' column as the index."
   ]
  },
  {
   "cell_type": "code",
   "execution_count": null,
   "id": "9676e04c",
   "metadata": {},
   "outputs": [],
   "source": [
    "df.sort_values('Date', inplace=True)\n",
    "df.set_index('Date', inplace=True)\n",
    "\n",
    "print(\"\\nData types after cleaning:\")\n",
    "print(df.dtypes)\n",
    "print(\"\\nDataset Info:\")\n",
    "df.info()\n",
    "print(\"\\nFirst 5 rows of processed data:\")\n",
    "print(df.head())"
   ]
  },
  {
   "cell_type": "markdown",
   "id": "1544d33b",
   "metadata": {},
   "source": [
    "## 2. Exploratory Data Analysis (EDA)"
   ]
  },
  {
   "cell_type": "markdown",
   "id": "512b37f8",
   "metadata": {},
   "source": [
    "### Summary Statistics\n",
    "Get a statistical overview of the numerical features."
   ]
  },
  {
   "cell_type": "code",
   "execution_count": null,
   "id": "2116bc2f",
   "metadata": {},
   "outputs": [],
   "source": [
    "print(\"\\nSummary Statistics:\")\n",
    "print(df.describe())"
   ]
  },
  {
   "cell_type": "markdown",
   "id": "706bcaa4",
   "metadata": {},
   "source": [
    "### Time Series Visualization\n",
    "Plot the key time series: Close price and Volume."
   ]
  },
  {
   "cell_type": "code",
   "execution_count": null,
   "id": "d9af4ad6",
   "metadata": {},
   "outputs": [],
   "source": [
    "fig, axes = plt.subplots(3, 1, figsize=(14, 15), sharex=True)\n",
    "\n",
    "# Plot Close Price\n",
    "axes[0].plot(df.index, df['Close'], label='Close Price', color='blue')\n",
    "axes[0].set_title('Bitcoin Close Price Over Time')\n",
    "axes[0].set_ylabel('Price (USD)')\n",
    "axes[0].legend()\n",
    "\n",
    "# Plot Volume\n",
    "axes[1].bar(df.index, df['Volume'], label='Volume Traded', color='orange', alpha=0.7)\n",
    "axes[1].set_title('Bitcoin Trading Volume Over Time')\n",
    "axes[1].set_ylabel('Volume')\n",
    "axes[1].legend()\n",
    "\n",
    "# Plot Price Change Percentage\n",
    "axes[2].plot(df.index, df['Change_Percent'] * 100, label='Daily Change %', color='green', alpha=0.8)\n",
    "axes[2].set_title('Bitcoin Daily Percentage Change')\n",
    "axes[2].set_ylabel('Change (%)')\n",
    "axes[2].axhline(0, color='red', linestyle='--', linewidth=0.8)\n",
    "axes[2].legend()\n",
    "\n",
    "plt.xlabel('Date')\n",
    "plt.tight_layout()\n",
    "plt.show()"
   ]
  },
  {
   "cell_type": "markdown",
   "id": "8a21d30b",
   "metadata": {},
   "source": [
    "### Distribution Analysis\n",
    "Look at the distribution of daily returns (percentage change)."
   ]
  },
  {
   "cell_type": "code",
   "execution_count": null,
   "id": "2f30da52",
   "metadata": {},
   "outputs": [],
   "source": [
    "plt.figure(figsize=(10, 6))\n",
    "sns.histplot(df['Change_Percent'] * 100, bins=50, kde=True)\n",
    "plt.title('Distribution of Bitcoin Daily Percentage Changes')\n",
    "plt.xlabel('Daily Change (%)')\n",
    "plt.ylabel('Frequency')\n",
    "plt.show()"
   ]
  },
  {
   "cell_type": "markdown",
   "id": "c12309bb",
   "metadata": {},
   "source": [
    "### Volatility Analysis\n",
    "Calculate and plot the rolling standard deviation of daily returns (e.g., 30-day volatility)."
   ]
  },
  {
   "cell_type": "code",
   "execution_count": null,
   "id": "16bbc5e8",
   "metadata": {},
   "outputs": [],
   "source": [
    "df['Daily_Return'] = df['Close'].pct_change()\n",
    "df['Rolling_Volatility_30D'] = df['Daily_Return'].rolling(window=30).std() * np.sqrt(365) # Annualized\n",
    "\n",
    "plt.figure(figsize=(14, 7))\n",
    "df['Rolling_Volatility_30D'].plot(color='purple')\n",
    "plt.title('Bitcoin 30-Day Rolling Volatility (Annualized)')\n",
    "plt.ylabel('Annualized Volatility')\n",
    "plt.xlabel('Date')\n",
    "plt.show()"
   ]
  },
  {
   "cell_type": "markdown",
   "id": "98f7254c",
   "metadata": {},
   "source": [
    "### EDA Findings (Markdown Explanation)\n",
    "*   **Price Trend:** The Bitcoin closing price shows significant upward trends over the years, interspersed with periods of high volatility and corrections. There are clear bull and bear market cycles visible.\n",
    "*   **Volume:** Trading volume fluctuates considerably. Spikes in volume often coincide with large price movements (both up and down), indicating periods of high market activity and interest.\n",
    "*   **Daily Changes:** The distribution of daily percentage changes is centered around zero but has heavy tails (leptokurtic), indicating that extreme price movements (both positive and negative) are more common than in a normal distribution.\n",
    "*   **Volatility:** The rolling volatility plot clearly shows periods of high and low volatility (volatility clustering). Volatility tends to spike during market uncertainty or major price swings.\n"
   ]
  },
  {
   "cell_type": "markdown",
   "id": "316d69d2",
   "metadata": {},
   "source": [
    "## 3. Feature Engineering"
   ]
  },
  {
   "cell_type": "markdown",
   "id": "7d62e9c7",
   "metadata": {},
   "source": [
    "### Rationale\n",
    "We will create additional features from the existing data to potentially improve model performance.\n",
    "*   **Lag Features:** Past values (lags) of the target variable ('Close') can be strong predictors for the next value, capturing autocorrelation.\n",
    "*   **Rolling Window Features:** Rolling means and standard deviations can capture local trends and volatility patterns over specific periods.\n",
    "*   **Date-Based Features:** Day of the week, month, etc., might capture cyclical patterns or seasonality (though strong weekly/monthly seasonality is less common in crypto compared to traditional markets, it's worth checking)."
   ]
  },
  {
   "cell_type": "markdown",
   "id": "9c285ed5",
   "metadata": {},
   "source": [
    "### Create Lag Features\n",
    "Add lagged 'Close' prices (e.g., 1-day, 7-day lag)."
   ]
  },
  {
   "cell_type": "code",
   "execution_count": null,
   "id": "d66e533e",
   "metadata": {},
   "outputs": [],
   "source": [
    "n_lags = [1, 3, 7] # Example lag periods\n",
    "for lag in n_lags:\n",
    "    df[f'Close_Lag_{lag}'] = df['Close'].shift(lag)"
   ]
  },
  {
   "cell_type": "markdown",
   "id": "4a807d09",
   "metadata": {},
   "source": [
    "### Create Rolling Window Features\n",
    "Add rolling mean and standard deviation for 'Close' price and 'Volume'."
   ]
  },
  {
   "cell_type": "code",
   "execution_count": null,
   "id": "39a1517d",
   "metadata": {},
   "outputs": [],
   "source": [
    "window_sizes = [7, 30] # Example window sizes (e.g., weekly, monthly)\n",
    "for window in window_sizes:\n",
    "    df[f'Close_Rolling_Mean_{window}'] = df['Close'].rolling(window=window).mean()\n",
    "    df[f'Close_Rolling_Std_{window}'] = df['Close'].rolling(window=window).std()\n",
    "    df[f'Volume_Rolling_Mean_{window}'] = df['Volume'].rolling(window=window).mean()"
   ]
  },
  {
   "cell_type": "markdown",
   "id": "c487af44",
   "metadata": {},
   "source": [
    "### Create Date-Based Features\n",
    "Extract features like day of week, month, quarter, year."
   ]
  },
  {
   "cell_type": "code",
   "execution_count": null,
   "id": "e6ca5ecb",
   "metadata": {},
   "outputs": [],
   "source": [
    "df['DayOfWeek'] = df.index.dayofweek # Monday=0, Sunday=6\n",
    "df['Month'] = df.index.month\n",
    "df['Quarter'] = df.index.quarter\n",
    "df['Year'] = df.index.year"
   ]
  },
  {
   "cell_type": "markdown",
   "id": "b0e1fb12",
   "metadata": {},
   "source": [
    "### Handle NaNs created by lags and rolling windows\n",
    "These operations introduce NaNs at the beginning of the dataset."
   ]
  },
  {
   "cell_type": "code",
   "execution_count": null,
   "id": "9a45cedf",
   "metadata": {},
   "outputs": [],
   "source": [
    "print(f\"\\nData shape before dropping NaNs: {df.shape}\")\n",
    "df.dropna(inplace=True)\n",
    "print(f\"Data shape after dropping NaNs: {df.shape}\")\n",
    "\n",
    "print(\"\\nDataset with engineered features (first 5 rows):\")\n",
    "print(df.head())\n",
    "print(\"\\nColumns available for modeling:\")\n",
    "print(df.columns.tolist())"
   ]
  },
  {
   "cell_type": "markdown",
   "id": "7510b85a",
   "metadata": {},
   "source": [
    "## 4. Data Preprocessing"
   ]
  },
  {
   "cell_type": "markdown",
   "id": "67bd255e",
   "metadata": {},
   "source": [
    "### Feature Selection\n",
    "Select the features to be used as input (X) and the target variable (y)."
   ]
  },
  {
   "cell_type": "code",
   "execution_count": null,
   "id": "f21dbab5",
   "metadata": {},
   "outputs": [],
   "source": [
    "# Target variable\n",
    "target_col = 'Close'\n",
    "\n",
    "# Feature columns (include original and engineered features)\n",
    "# Exclude columns that might cause leakage if not handled carefully (like Change_Percent if it's calculated based on the Close price we are predicting)\n",
    "# Let's use price-related features, volume, and engineered features.\n",
    "feature_cols = [col for col in df.columns if col != target_col and col != 'Change_Percent' and col != 'Daily_Return']\n",
    "# Optional: Select a subset if needed, e.g. based on correlation or feature importance later\n",
    "# feature_cols = ['Open', 'High', 'Low', 'Volume', 'Close_Lag_1', 'Close_Lag_7', 'Close_Rolling_Mean_7', 'Close_Rolling_Std_7'] # Example subset\n",
    "\n",
    "print(f\"\\nTarget variable: {target_col}\")\n",
    "print(f\"Features used for modeling ({len(feature_cols)}): {feature_cols}\")\n",
    "\n",
    "features = df[feature_cols]\n",
    "target = df[[target_col]]"
   ]
  },
  {
   "cell_type": "markdown",
   "id": "398dfaee",
   "metadata": {},
   "source": [
    "### Data Splitting\n",
    "Split the data into training, validation, and testing sets chronologically."
   ]
  },
  {
   "cell_type": "code",
   "execution_count": null,
   "id": "f966d5a3",
   "metadata": {},
   "outputs": [],
   "source": [
    "# Define split proportions\n",
    "train_size = 0.75\n",
    "val_size = 0.15\n",
    "test_size = 0.1"
   ]
  },
  {
   "cell_type": "code",
   "execution_count": null,
   "id": "27345580",
   "metadata": {},
   "outputs": [],
   "source": [
    "# Calculate split indices\n",
    "n = len(df)\n",
    "train_end_idx = int(n * train_size)\n",
    "val_end_idx = train_end_idx + int(n * val_size)"
   ]
  },
  {
   "cell_type": "code",
   "execution_count": null,
   "id": "02d0f2f4",
   "metadata": {},
   "outputs": [],
   "source": [
    "# Split the data\n",
    "X_train = features[:train_end_idx]\n",
    "y_train = target[:train_end_idx]\n",
    "\n",
    "X_val = features[train_end_idx:val_end_idx]\n",
    "y_val = target[train_end_idx:val_end_idx]\n",
    "\n",
    "X_test = features[val_end_idx:]\n",
    "y_test = target[val_end_idx:]\n",
    "\n",
    "print(f\"\\nData splitting:\")\n",
    "print(f\"Training set shape: X={X_train.shape}, y={y_train.shape}\")\n",
    "print(f\"Validation set shape: X={X_val.shape}, y={y_val.shape}\")\n",
    "print(f\"Test set shape: X={X_test.shape}, y={y_test.shape}\")"
   ]
  },
  {
   "cell_type": "markdown",
   "id": "e606c46c",
   "metadata": {},
   "source": [
    "### Data Scaling (Normalization)\n",
    "Scale the features and the target variable using MinMaxScaler to the range [0, 1].\n",
    "Fit the scaler ONLY on the training data to prevent data leakage."
   ]
  },
  {
   "cell_type": "code",
   "execution_count": null,
   "id": "0289ba83",
   "metadata": {},
   "outputs": [],
   "source": [
    "feature_scaler = MinMaxScaler(feature_range=(0, 1))\n",
    "target_scaler = MinMaxScaler(feature_range=(0, 1))"
   ]
  },
  {
   "cell_type": "code",
   "execution_count": null,
   "id": "ebea1bbc",
   "metadata": {},
   "outputs": [],
   "source": [
    "# Fit and transform training data\n",
    "X_train_scaled = feature_scaler.fit_transform(X_train)\n",
    "y_train_scaled = target_scaler.fit_transform(y_train)"
   ]
  },
  {
   "cell_type": "code",
   "execution_count": null,
   "id": "78970b71",
   "metadata": {},
   "outputs": [],
   "source": [
    "# Transform validation and test data using the *fitted* scalers\n",
    "X_val_scaled = feature_scaler.transform(X_val)\n",
    "y_val_scaled = target_scaler.transform(y_val)\n",
    "\n",
    "X_test_scaled = feature_scaler.transform(X_test)\n",
    "y_test_scaled = target_scaler.transform(y_test)\n",
    "\n",
    "print(\"\\nData scaling completed.\")\n",
    "print(f\"X_train_scaled shape: {X_train_scaled.shape}\")\n",
    "print(f\"y_train_scaled shape: {y_train_scaled.shape}\")"
   ]
  },
  {
   "cell_type": "markdown",
   "id": "e4ce9b84",
   "metadata": {},
   "source": [
    "### Create Time Series Sequences\n",
    "Create sequences of data (e.g., use the last 60 days of data to predict the next day)."
   ]
  },
  {
   "cell_type": "code",
   "execution_count": null,
   "id": "5a1d2f63",
   "metadata": {},
   "outputs": [],
   "source": [
    "def create_sequences(X_data, y_data, sequence_length):\n",
    "    \"\"\"\n",
    "    Generates sequences of data for time series forecasting.\n",
    "    Args:\n",
    "        X_data (np.array): Scaled feature data.\n",
    "        y_data (np.array): Scaled target data.\n",
    "        sequence_length (int): Number of time steps in each input sequence.\n",
    "    Returns:\n",
    "        tuple: (X_sequence, y_sequence) numpy arrays.\n",
    "    \"\"\"\n",
    "    X_sequence, y_sequence = [], []\n",
    "    for i in range(len(X_data) - sequence_length):\n",
    "        X_sequence.append(X_data[i:(i + sequence_length)])\n",
    "        y_sequence.append(y_data[i + sequence_length]) # Predict the next step\n",
    "    return np.array(X_sequence), np.array(y_sequence)"
   ]
  },
  {
   "cell_type": "code",
   "execution_count": null,
   "id": "8e906db4",
   "metadata": {},
   "outputs": [],
   "source": [
    "# Define sequence length (number of past time steps to use for prediction)\n",
    "SEQUENCE_LENGTH = 60\n",
    "\n",
    "# Create sequences for train, validation, and test sets\n",
    "X_train_seq, y_train_seq = create_sequences(X_train_scaled, y_train_scaled, SEQUENCE_LENGTH)\n",
    "X_val_seq, y_val_seq = create_sequences(X_val_scaled, y_val_scaled, SEQUENCE_LENGTH)\n",
    "X_test_seq, y_test_seq = create_sequences(X_test_scaled, y_test_scaled, SEQUENCE_LENGTH)\n",
    "\n",
    "print(\"\\nSequence creation completed.\")\n",
    "print(f\"X_train_seq shape: {X_train_seq.shape}\") # (samples, sequence_length, num_features)\n",
    "print(f\"y_train_seq shape: {y_train_seq.shape}\") # (samples, 1)\n",
    "print(f\"X_val_seq shape: {X_val_seq.shape}\")\n",
    "print(f\"y_val_seq shape: {y_val_seq.shape}\")\n",
    "print(f\"X_test_seq shape: {X_test_seq.shape}\")\n",
    "print(f\"y_test_seq shape: {y_test_seq.shape}\")"
   ]
  },
  {
   "cell_type": "code",
   "execution_count": null,
   "id": "f313569d",
   "metadata": {},
   "outputs": [],
   "source": [
    "# Get the number of features after creating sequences\n",
    "num_features = X_train_seq.shape[2]\n",
    "print(f\"\\nNumber of features per time step: {num_features}\")"
   ]
  },
  {
   "cell_type": "markdown",
   "id": "78b827b6",
   "metadata": {},
   "source": [
    "## 5. Modeling"
   ]
  },
  {
   "cell_type": "markdown",
   "id": "777b38fb",
   "metadata": {},
   "source": [
    "### Model Architecture Setup\n",
    "Define hyperparameters and input shape."
   ]
  },
  {
   "cell_type": "code",
   "execution_count": null,
   "id": "2b63733f",
   "metadata": {},
   "outputs": [],
   "source": [
    "INPUT_SHAPE = (SEQUENCE_LENGTH, num_features)\n",
    "LSTM_UNITS = 64\n",
    "CNN_FILTERS = 64\n",
    "KERNEL_SIZE = 3\n",
    "DROPOUT_RATE = 0.3\n",
    "EPOCHS = 30\n",
    "BATCH_SIZE = 64"
   ]
  },
  {
   "cell_type": "code",
   "execution_count": null,
   "id": "c6e94ca3",
   "metadata": {},
   "outputs": [],
   "source": [
    "# Callbacks for training\n",
    "early_stopping = EarlyStopping(monitor='val_loss', patience=3, restore_best_weights=True)\n",
    "# Save the best model checkpoint\n",
    "model_checkpoint = ModelCheckpoint('best_model.h5', monitor='val_loss', save_best_only=True)\n",
    "# Reduce learning rate on plateau\n",
    "reduce_lr = tf.keras.callbacks.ReduceLROnPlateau(monitor='val_loss', factor=0.133, patience=1, min_lr=1e-6)"
   ]
  },
  {
   "cell_type": "markdown",
   "id": "7971445a",
   "metadata": {},
   "source": [
    "### Model 1: LSTM"
   ]
  },
  {
   "cell_type": "code",
   "execution_count": null,
   "id": "e6cb37be",
   "metadata": {},
   "outputs": [],
   "source": [
    "def build_lstm_model(input_shape, lstm_units, dropout_rate):\n",
    "    model = Sequential([\n",
    "        Input(shape=input_shape),\n",
    "        LSTM(lstm_units, return_sequences=True), # return_sequences=True if stacking LSTMs\n",
    "        Dropout(dropout_rate),\n",
    "        LSTM(lstm_units // 2, return_sequences=False), # Last LSTM layer returns only the final output\n",
    "        Dropout(dropout_rate),\n",
    "        Dense(32, activation='relu'),\n",
    "        Dense(1) # Output layer: 1 neuron for predicting the single 'Close' price\n",
    "    ])\n",
    "    model.compile(optimizer='adam', loss='mse') # Mean Squared Error for regression\n",
    "    return model\n",
    "\n",
    "lstm_model = build_lstm_model(INPUT_SHAPE, LSTM_UNITS, DROPOUT_RATE)\n",
    "lstm_model.summary()"
   ]
  },
  {
   "cell_type": "markdown",
   "id": "362702ec",
   "metadata": {},
   "source": [
    "#### Train LSTM Model"
   ]
  },
  {
   "cell_type": "code",
   "execution_count": null,
   "id": "e55cf793",
   "metadata": {},
   "outputs": [],
   "source": [
    "print(\"\\nTraining LSTM model...\")\n",
    "history_lstm = lstm_model.fit(\n",
    "    X_train_seq, y_train_seq,\n",
    "    epochs=EPOCHS,\n",
    "    batch_size=BATCH_SIZE,\n",
    "    validation_data=(X_val_seq, y_val_seq),\n",
    "    callbacks=[early_stopping], # Add model_checkpoint here if needed\n",
    "    verbose=1 # Set to 0 for less output, 1 for progress bar\n",
    ")\n",
    "print(\"LSTM model training finished.\")"
   ]
  },
  {
   "cell_type": "markdown",
   "id": "06301b6b",
   "metadata": {},
   "source": [
    "#### Plot LSTM Training History\n"
   ]
  },
  {
   "cell_type": "code",
   "execution_count": null,
   "id": "8bfcc0fb",
   "metadata": {},
   "outputs": [],
   "source": [
    "def plot_training_history(history, model_name):\n",
    "    plt.figure(figsize=(10, 6))\n",
    "    plt.plot(history.history['loss'], label='Training Loss')\n",
    "    plt.plot(history.history['val_loss'], label='Validation Loss')\n",
    "    plt.title(f'{model_name} - Training and Validation Loss')\n",
    "    plt.xlabel('Epochs')\n",
    "    plt.ylabel('Loss (MSE)')\n",
    "    plt.legend()\n",
    "    plt.show()\n",
    "\n",
    "plot_training_history(history_lstm, \"LSTM\")"
   ]
  },
  {
   "cell_type": "markdown",
   "id": "94792efb",
   "metadata": {},
   "source": [
    "### Model 2: CNN-LSTM Hybrid"
   ]
  },
  {
   "cell_type": "code",
   "execution_count": null,
   "id": "953bd111",
   "metadata": {},
   "outputs": [],
   "source": [
    "def build_cnn_lstm_model(input_shape, cnn_filters, kernel_size, lstm_units, dropout_rate):\n",
    "    model = Sequential([\n",
    "        Input(shape=input_shape),\n",
    "        # CNN layers to extract features from sequences\n",
    "        Conv1D(filters=cnn_filters, kernel_size=kernel_size, activation='relu', padding='same'),\n",
    "        # MaxPooling1D(pool_size=2), # Optional: Downsample\n",
    "        Conv1D(filters=cnn_filters // 2, kernel_size=kernel_size, activation='relu', padding='same'),\n",
    "        MaxPooling1D(pool_size=2),\n",
    "        # LSTM layers to process sequences of features extracted by CNN\n",
    "        LSTM(lstm_units, return_sequences=True),\n",
    "        Dropout(dropout_rate),\n",
    "        LSTM(lstm_units // 2, return_sequences=False),\n",
    "        Dropout(dropout_rate),\n",
    "        Dense(32, activation='relu'),\n",
    "        Dense(1) # Output layer\n",
    "    ])\n",
    "    model.compile(optimizer='adam', loss='mse')\n",
    "    return model\n",
    "\n",
    "cnn_lstm_model = build_cnn_lstm_model(INPUT_SHAPE, CNN_FILTERS, KERNEL_SIZE, LSTM_UNITS, DROPOUT_RATE)\n",
    "cnn_lstm_model.summary()"
   ]
  },
  {
   "cell_type": "markdown",
   "id": "532ecded",
   "metadata": {},
   "source": [
    "#### Train CNN-LSTM Model"
   ]
  },
  {
   "cell_type": "code",
   "execution_count": null,
   "id": "0d97536a",
   "metadata": {},
   "outputs": [],
   "source": [
    "print(\"\\nTraining CNN-LSTM model...\")\n",
    "history_cnn_lstm = cnn_lstm_model.fit(\n",
    "    X_train_seq, y_train_seq,\n",
    "    epochs=EPOCHS,\n",
    "    batch_size=BATCH_SIZE,\n",
    "    validation_data=(X_val_seq, y_val_seq),\n",
    "    callbacks=[early_stopping],\n",
    "    verbose=1\n",
    ")\n",
    "print(\"CNN-LSTM model training finished.\")"
   ]
  },
  {
   "cell_type": "markdown",
   "id": "16b87664",
   "metadata": {},
   "source": [
    "#### Plot CNN-LSTM Training History"
   ]
  },
  {
   "cell_type": "code",
   "execution_count": null,
   "id": "f09f8e15",
   "metadata": {},
   "outputs": [],
   "source": [
    "plot_training_history(history_cnn_lstm, \"CNN-LSTM\")"
   ]
  },
  {
   "cell_type": "markdown",
   "id": "aef1eede",
   "metadata": {},
   "source": [
    "## 6. Evaluation\n",
    "\n"
   ]
  },
  {
   "cell_type": "markdown",
   "id": "6a19c1d2",
   "metadata": {},
   "source": [
    "### Make Predictions on Test Set\n",
    "Use the trained models to predict on the unseen test set. Remember predictions are scaled."
   ]
  },
  {
   "cell_type": "code",
   "execution_count": null,
   "id": "69c6ddac",
   "metadata": {},
   "outputs": [],
   "source": [
    "y_pred_lstm_scaled = lstm_model.predict(X_test_seq)\n",
    "y_pred_cnn_lstm_scaled = cnn_lstm_model.predict(X_test_seq)"
   ]
  },
  {
   "cell_type": "markdown",
   "id": "3d577057",
   "metadata": {},
   "source": [
    "### Inverse Transform Predictions\n",
    "Convert the scaled predictions and actual values back to the original price scale."
   ]
  },
  {
   "cell_type": "code",
   "execution_count": null,
   "id": "38dc8435",
   "metadata": {},
   "outputs": [],
   "source": [
    "y_pred_lstm = target_scaler.inverse_transform(y_pred_lstm_scaled)\n",
    "y_pred_cnn_lstm = target_scaler.inverse_transform(y_pred_cnn_lstm_scaled)\n",
    "# Get the actual 'Close' prices for the test set (corresponding to the sequences)\n",
    "# The actual y values start from SEQUENCE_LENGTH steps into the original test set\n",
    "y_test_actual = target[val_end_idx + SEQUENCE_LENGTH:].values\n",
    "# Or inverse transform the scaled y_test_seq\n",
    "# y_test_actual_inv = target_scaler.inverse_transform(y_test_seq)\n",
    "# print(f\"Shape check: y_test_actual {y_test_actual.shape}, y_pred_lstm {y_pred_lstm.shape}\")"
   ]
  },
  {
   "cell_type": "code",
   "execution_count": null,
   "id": "b4ff06c2",
   "metadata": {},
   "outputs": [],
   "source": [
    "# Adjust y_test_actual shape if needed (e.g., due to sequence creation)\n",
    "if len(y_test_actual) != len(y_pred_lstm):\n",
    "     print(f\"Adjusting y_test_actual length from {len(y_test_actual)} to match predictions {len(y_pred_lstm)}\")\n",
    "     y_test_actual = y_test[SEQUENCE_LENGTH:].values"
   ]
  },
  {
   "cell_type": "markdown",
   "id": "5ef90162",
   "metadata": {},
   "source": [
    "### Calculate Evaluation Metrics\n",
    "Use MAE, RMSE, and MAPE to evaluate model performance."
   ]
  },
  {
   "cell_type": "code",
   "execution_count": null,
   "id": "d6cb2826",
   "metadata": {},
   "outputs": [],
   "source": [
    "def calculate_metrics(y_true, y_pred):\n",
    "    mae = mean_absolute_error(y_true, y_pred)\n",
    "    rmse = np.sqrt(mean_squared_error(y_true, y_pred))\n",
    "    mape = mean_absolute_percentage_error(y_true, y_pred) * 100 # Percentage\n",
    "    return {'MAE': mae, 'RMSE': rmse, 'MAPE': mape}"
   ]
  },
  {
   "cell_type": "code",
   "execution_count": null,
   "id": "3feffd12",
   "metadata": {},
   "outputs": [],
   "source": [
    "metrics_lstm = calculate_metrics(y_test_actual, y_pred_lstm)\n",
    "metrics_cnn_lstm = calculate_metrics(y_test_actual, y_pred_cnn_lstm)\n",
    "\n",
    "print(\"\\nEvaluation Metrics on Test Set:\")\n",
    "print(f\"LSTM Model: {metrics_lstm}\")\n",
    "print(f\"CNN-LSTM Model: {metrics_cnn_lstm}\")"
   ]
  },
  {
   "cell_type": "markdown",
   "id": "7c9d6408",
   "metadata": {},
   "source": [
    "### Compare Model Performance"
   ]
  },
  {
   "cell_type": "code",
   "execution_count": null,
   "id": "886e8b92",
   "metadata": {},
   "outputs": [],
   "source": [
    "metrics_df = pd.DataFrame([metrics_lstm, metrics_cnn_lstm], index=['LSTM', 'CNN-LSTM'])\n",
    "print(\"\\nModel Comparison:\")\n",
    "print(metrics_df)"
   ]
  },
  {
   "cell_type": "markdown",
   "id": "f0fe7806",
   "metadata": {},
   "source": [
    "### Visualize Actual vs. Predicted Prices"
   ]
  },
  {
   "cell_type": "code",
   "execution_count": null,
   "id": "03695555",
   "metadata": {},
   "outputs": [],
   "source": [
    "# Get the dates corresponding to the test predictions\n",
    "test_dates = df.index[val_end_idx + SEQUENCE_LENGTH:]\n",
    "\n",
    "plt.figure(figsize=(14, 7))\n",
    "plt.plot(test_dates, y_test_actual, label='Actual Price', color='blue', linewidth=2)\n",
    "plt.plot(test_dates, y_pred_lstm, label='LSTM Predicted Price', color='red', linestyle='--', alpha=0.8)\n",
    "plt.plot(test_dates, y_pred_cnn_lstm, label='CNN-LSTM Predicted Price', color='green', linestyle='--', alpha=0.8)\n",
    "\n",
    "plt.title('Bitcoin Price Prediction vs Actual (Test Set)')\n",
    "plt.xlabel('Date')\n",
    "plt.ylabel('Price (USD)')\n",
    "plt.legend()\n",
    "plt.show()"
   ]
  },
  {
   "cell_type": "code",
   "execution_count": null,
   "id": "5bf6de86",
   "metadata": {},
   "outputs": [],
   "source": [
    "# Zoom in on a smaller period for better visibility if needed\n",
    "zoom_start = test_dates[0]\n",
    "zoom_end = test_dates[min(100, len(test_dates)-1)] # Zoom on first 100 points or less\n",
    "\n",
    "plt.figure(figsize=(14, 7))\n",
    "plt.plot(test_dates, y_test_actual, label='Actual Price', color='blue', linewidth=2)\n",
    "plt.plot(test_dates, y_pred_lstm, label='LSTM Predicted Price', color='red', linestyle='--', alpha=0.8)\n",
    "plt.plot(test_dates, y_pred_cnn_lstm, label='CNN-LSTM Predicted Price', color='green', linestyle='--', alpha=0.8)\n",
    "\n",
    "plt.title('Bitcoin Price Prediction vs Actual (Test Set - Zoomed In)')\n",
    "plt.xlabel('Date')\n",
    "plt.ylabel('Price (USD)')\n",
    "plt.xlim(zoom_start, zoom_end) # Apply zoom\n",
    "plt.legend()\n",
    "plt.show()"
   ]
  },
  {
   "cell_type": "markdown",
   "id": "1d3fccb6",
   "metadata": {},
   "source": [
    "## 7. Testing / Future Simulation (Next 30 Days)"
   ]
  },
  {
   "cell_type": "markdown",
   "id": "2f1bc187",
   "metadata": {},
   "source": [
    "### Select Best Model\n",
    "Choose the model with better performance on the test set (e.g., lower RMSE or MAE)."
   ]
  },
  {
   "cell_type": "code",
   "execution_count": null,
   "id": "6a15d817",
   "metadata": {},
   "outputs": [],
   "source": [
    "best_model = lstm_model if metrics_lstm['RMSE'] <= metrics_cnn_lstm['RMSE'] else cnn_lstm_model\n",
    "best_model_name = \"LSTM\" if best_model == lstm_model else \"CNN-LSTM\"\n",
    "print(f\"\\nSelected best performing model: {best_model_name}\")"
   ]
  },
  {
   "cell_type": "markdown",
   "id": "8ee1165b",
   "metadata": {},
   "source": [
    "### Prepare Input for Simulation\n",
    "Get the last sequence from the *entire* available dataset (including test data) to start the prediction."
   ]
  },
  {
   "cell_type": "code",
   "execution_count": null,
   "id": "7d83e087",
   "metadata": {},
   "outputs": [],
   "source": [
    "# Combine all scaled features data\n",
    "all_features_scaled = np.concatenate((X_train_scaled, X_val_scaled, X_test_scaled), axis=0)\n",
    "\n",
    "# Get the last known sequence\n",
    "last_sequence = all_features_scaled[-SEQUENCE_LENGTH:]\n",
    "# Reshape it for model input: (1, sequence_length, num_features)\n",
    "current_sequence = last_sequence.reshape((1, SEQUENCE_LENGTH, num_features))"
   ]
  },
  {
   "cell_type": "markdown",
   "id": "0d98f76e",
   "metadata": {},
   "source": [
    "### Simulate Future Predictions Iteratively\n"
   ]
  },
  {
   "cell_type": "code",
   "execution_count": null,
   "id": "12512424",
   "metadata": {},
   "outputs": [],
   "source": [
    "\n",
    "forecast_horizon = 30 # Predict the next 30 days\n",
    "future_predictions_scaled = []\n",
    "\n",
    "print(f\"\\nSimulating forecast for the next {forecast_horizon} days using {best_model_name}...\")\n",
    "\n",
    "for i in range(forecast_horizon):\n",
    "    # Predict the next time step (scaled)\n",
    "    next_pred_scaled = best_model.predict(current_sequence)[0, 0] # Get the scalar prediction\n",
    "\n",
    "    # Store the scaled prediction\n",
    "    future_predictions_scaled.append(next_pred_scaled)\n",
    "\n",
    "    # Create the feature vector for the predicted step\n",
    "    # This is the tricky part: we only predicted 'Close'. How to get other features?\n",
    "    # Simplification: Assume other features remain constant (use their last known values)\n",
    "    # or use a simple forecast for them (e.g., rolling mean).\n",
    "    # Here, we'll use the last known values from the `last_sequence` for simplicity,\n",
    "    # but replace the scaled 'Close' feature value (assuming 'Close' is the first feature after scaling,\n",
    "    # which depends on the order in `feature_cols` and how scaling was done - safer to use the target scaler's position).\n",
    "    # **Correction**: A better approach for simulation when multiple features are used:\n",
    "    # 1. Only use 'Close' price (and its lags/rolling features) for modeling if simplifying simulation.\n",
    "    # 2. Build a multi-output model predicting all features for the next step (complex).\n",
    "    # 3. For this example: We update the *entire* last time step's feature vector. We know the predicted 'Close' price.\n",
    "    #    We need to estimate 'Open', 'High', 'Low', 'Volume', and engineered features for the *next* day.\n",
    "    #    Let's stick to the simplification: update the sequence with the prediction, assuming other features\n",
    "    #    can be derived or held constant relative to the prediction. This is a major limitation.\n",
    "    #    A slightly better simplification: Create a *new* feature vector for the predicted day.\n",
    "    #    Use the predicted close price (scaled). For other features like Open, High, Low, Volume,\n",
    "    #    maybe use the values from the *last actual day* or a simple average.\n",
    "    #    Let's make a new step feature vector based on the last *actual* step's features, but replace the target-related ones.\n",
    "\n",
    "    # Create a placeholder for the next step's features based on the last known step\n",
    "    next_step_features = current_sequence[0, -1, :].copy() # Copy the last time step's features\n",
    "\n",
    "    # Find the index corresponding to the 'Close' feature (or target-related features)\n",
    "    # This requires knowing the order after scaling. Assuming 'Close' was the target and NOT in features,\n",
    "    # we don't update it directly here. The model only predicts the *target*.\n",
    "    # The input sequence for the *next* prediction needs to roll forward.\n",
    "\n",
    "    # Create the *new* input feature vector for the predicted time step.\n",
    "    # This requires predicting *all* input features for the next step, which our model doesn't do.\n",
    "    # **Revised Simplification for Demo:** We'll append the predicted scaled *target* value\n",
    "    # and assume we can construct a reasonable feature vector around it for the next step.\n",
    "    # The most practical way here (given single output model) is to assume the *next* step's\n",
    "    # input features are similar to the last *known* step, but shifted.\n",
    "    # Let's just roll the sequence: append the prediction as if it were the next feature set's target-proxy.\n",
    "\n",
    "    # Create a minimal feature vector for the next step containing just the prediction\n",
    "    # This assumes the model was trained *only* on the target variable, which contradicts earlier steps.\n",
    "    # Let's backtrack: The simulation loop needs careful thought based on model inputs.\n",
    "\n",
    "    # **Simplest Viable Simulation (using only the prediction):**\n",
    "    # This implies the model should ideally be trained only on lags of 'Close' if using this loop.\n",
    "    # If using multiple features, this loop is conceptually flawed without predicting future features.\n",
    "    # Acknowledging this limitation, we proceed by updating the sequence assuming the predicted value\n",
    "    # is the most important part and other features in the *new* time step are approximated\n",
    "    # by shifting the previous step's non-target features.\n",
    "\n",
    "    new_step_features_scaled = current_sequence[0, -1, :].copy() # Start with last known features\n",
    "    # We cannot directly place `next_pred_scaled` here as it's the TARGET prediction, not a feature input for the *next* step.\n",
    "    # This highlights the difficulty of multi-step forecasting with multivariate inputs using a single-output model.\n",
    "\n",
    "    # **Workaround:** Re-train a simpler model using only lagged 'Close' prices, OR\n",
    "    # **Workaround 2 (Adopted here):** Append the prediction to the sequence *as if* it was the next value for the *primary* feature being tracked (e.g., 'Close' or a proxy). This is an approximation. We need to construct the *full feature vector* for the predicted time step. Let's assume the first feature column in `X_train_scaled` corresponds to the most important price feature (e.g., 'Open' or scaled 'Close_Lag_1'). We update this based on the prediction.\n",
    "\n",
    "    # Create a dummy next feature set based on the last one, updating the 'Close'-related part\n",
    "    # Let's assume the target ('Close') prediction can approximate the next step's 'Open' or a key feature.\n",
    "    # Find index of a key price feature like 'Open' or 'Close_Lag_1' if used. Let's assume 'Open' is first feature (index 0).\n",
    "    # This is highly approximate.\n",
    "    next_feature_vector = current_sequence[0, -1, :].copy() # Copy last step's features\n",
    "    # Update potentially 'Open' or a lag feature with the predicted value (as proxy)\n",
    "    # This part is weak without a proper multivariate forecast model.\n",
    "    # Let's assume index 0 represents 'Open' or similar primary price indicator.\n",
    "    # We use the *predicted* scaled close price as a proxy for the *next* step's main price feature input.\n",
    "    next_feature_vector[0] = next_pred_scaled # Highly approximate!\n",
    "\n",
    "    # Append this *approximated* feature vector for the next step\n",
    "    new_sequence_step = next_feature_vector.reshape(1, 1, num_features)\n",
    "\n",
    "    # Roll the sequence: remove the oldest step, append the new approximated step\n",
    "    current_sequence = np.append(current_sequence[:, 1:, :], new_sequence_step, axis=1)\n",
    "\n",
    "\n",
    "print(\"Simulation finished.\")"
   ]
  },
  {
   "cell_type": "markdown",
   "id": "f92e34b9",
   "metadata": {},
   "source": [
    "### Inverse Transform Forecast\n",
    "Convert the scaled forecast back to the original price scale."
   ]
  },
  {
   "cell_type": "code",
   "execution_count": null,
   "id": "cb26afd0",
   "metadata": {},
   "outputs": [],
   "source": [
    "future_predictions = target_scaler.inverse_transform(np.array(future_predictions_scaled).reshape(-1, 1))"
   ]
  },
  {
   "cell_type": "markdown",
   "id": "03d506da",
   "metadata": {},
   "source": [
    "### Create Future Dates Index\n",
    "Generate dates for the forecast period."
   ]
  },
  {
   "cell_type": "code",
   "execution_count": null,
   "id": "a2cb4bea",
   "metadata": {},
   "outputs": [],
   "source": [
    "last_date = df.index[-1]\n",
    "future_dates = pd.date_range(start=last_date + pd.Timedelta(days=1), periods=forecast_horizon, freq='D')"
   ]
  },
  {
   "cell_type": "markdown",
   "id": "b10bc630",
   "metadata": {},
   "source": [
    "### Visualize Forecast"
   ]
  },
  {
   "cell_type": "code",
   "execution_count": null,
   "id": "097e6ad3",
   "metadata": {},
   "outputs": [],
   "source": [
    "plt.figure(figsize=(14, 7))\n",
    "\n",
    "# Plot historical data (last N days)\n",
    "history_days = 90\n",
    "plt.plot(df.index[-history_days:], df['Close'][-history_days:], label='Historical Close Price', color='blue')\n",
    "\n",
    "# Plot the forecast\n",
    "plt.plot(future_dates, future_predictions, label='Forecasted Price', color='red', linestyle='--')\n",
    "\n",
    "plt.title(f'Bitcoin Price Forecast for Next {forecast_horizon} Days ({best_model_name})')\n",
    "plt.xlabel('Date')\n",
    "plt.ylabel('Price (USD)')\n",
    "plt.legend()\n",
    "plt.show()"
   ]
  },
  {
   "cell_type": "markdown",
   "id": "4853da85",
   "metadata": {},
   "source": [
    "### Simulation Explanation\n",
    "The plot above shows the historical closing prices for the last 90 days and the simulated forecast for the next 30 days using the best-performing model ({best_model_name}).\n",
    "\n",
    "**Important Considerations & Limitations:**\n",
    "*   **Iterative Prediction:** The forecast is generated iteratively. The prediction for day 1 is used as part of the input to predict day 2, and so on. This means errors can accumulate over the forecast horizon.\n",
    "*   **Feature Approximation:** A major challenge in multi-step forecasting with multivariate inputs (like Open, High, Low, Volume, etc.) using a single-output model (predicting only 'Close') is determining the future values of the input features. In this simulation, we made a strong simplifying assumption: the feature vector for the next predicted step was approximated based on the last known step, with only a primary price feature updated using the prediction. This is not realistic, as other features (Volume, High, Low) also change dynamically. A more robust approach would involve:\n",
    "    *   Training a model using only lagged values of the target variable ('Close').\n",
    "    *   Building a multi-output model that predicts all necessary features for the next time step.\n",
    "    *   Using external forecasts or assumptions for the future input features.\n",
    "*   **Model Confidence:** The accuracy of the forecast typically decreases as the forecast horizon increases. Deep learning models capture past patterns but cannot predict unforeseen future events (e.g., sudden market crashes, regulatory changes, major news).\n",
    "\n",
    "Therefore, this 30-day forecast should be interpreted with caution, serving more as an illustration of the model's potential trend extrapolation based on learned patterns, rather than a guaranteed future outcome."
   ]
  },
  {
   "cell_type": "markdown",
   "id": "48ef5001",
   "metadata": {},
   "source": [
    "\n",
    "\n",
    "\n",
    "\n",
    "\n",
    "\n",
    "\n",
    "\n",
    "## 8. Conclusion\n",
    "\n",
    "### Summary of Results\n",
    "In this project, we developed and compared LSTM and CNN-LSTM hybrid models for predicting daily Bitcoin closing prices. Both models were trained on historical data from 2016 onwards, incorporating feature engineering techniques like lags and rolling statistics.\n",
    "*   The {best_model_name} model achieved slightly better performance on the test set, with an RMSE of {metrics_df.loc[best_model_name, 'RMSE']:.2f} and a MAPE of {metrics_df.loc[best_model_name, 'MAPE']:.2f}%.\n",
    "*   Visualizations showed that both models could capture the general trend of the Bitcoin price on the test set, although predicting the exact magnitude and timing of fluctuations remains challenging.\n",
    "*   The future simulation provided a potential price trajectory for the next 30 days, highlighting the model's predictive capability but also the inherent uncertainties and limitations of long-term forecasting, especially with the simplified feature handling during simulation.\n",
    "\n",
    "### Insights\n",
    "*   **Feature Engineering:** Adding lag features and rolling statistics seemed beneficial, providing the models with more context about recent trends and volatility.\n",
    "*   **Model Complexity:** The CNN-LSTM model, while potentially capable of extracting more complex patterns, did not significantly outperform the standard LSTM in this specific setup. This could be due to the nature of the data, the chosen hyperparameters, or the architecture configuration. Further tuning might be required.\n",
    "*   **Volatility:** EDA confirmed Bitcoin's high volatility, making precise point predictions difficult. Models are generally better at capturing trends than exact price levels day-to-day.\n",
    "\n",
    "### Suggestions for Future Work\n",
    "*   **Hyperparameter Tuning:** Systematically tune hyperparameters (e.g., sequence length, LSTM units, CNN filters, learning rate, dropout rate) using techniques like Grid Search, Random Search, or Bayesian Optimization.\n",
    "*   **Advanced Architectures:** Explore other deep learning architectures like Attention mechanisms or Transformers, which have shown promise in sequence modeling.\n",
    "*   **Multivariate Forecasting:** Implement models that predict multiple outputs (e.g., Close, High, Low, Volume) simultaneously, which could lead to more consistent future simulations.\n",
    "*   **Exogenous Variables:** Incorporate external factors like market sentiment (from social media or news), blockchain metrics (e.g., hash rate, transaction count), or macroeconomic indicators.\n",
    "*   **Ensemble Methods:** Combine predictions from multiple models (e.g., LSTM, CNN-LSTM, ARIMA, Prophet) to potentially improve robustness and accuracy.\n",
    "*   **Refined Simulation:** Develop a more sophisticated simulation strategy that forecasts or models the evolution of all input features, not just the target variable.\n",
    "*   **Longer Evaluation:** Evaluate performance over multiple rolling forecast origins to get a more robust measure of generalization."
   ]
  }
 ],
 "metadata": {
  "kernelspec": {
   "display_name": "tf2-directml",
   "language": "python",
   "name": "python3"
  },
  "language_info": {
   "codemirror_mode": {
    "name": "ipython",
    "version": 3
   },
   "file_extension": ".py",
   "mimetype": "text/x-python",
   "name": "python",
   "nbconvert_exporter": "python",
   "pygments_lexer": "ipython3",
   "version": "3.9.19"
  }
 },
 "nbformat": 4,
 "nbformat_minor": 5
}
